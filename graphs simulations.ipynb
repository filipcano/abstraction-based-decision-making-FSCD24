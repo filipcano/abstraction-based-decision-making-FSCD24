{
 "cells": [
  {
   "cell_type": "code",
   "execution_count": null,
   "id": "limited-exclusive",
   "metadata": {},
   "outputs": [],
   "source": [
    "import matplotlib.pyplot as plt\n",
    "import re\n",
    "from matplotlib import rc\n",
    "import numpy as np\n",
    "import pandas as pd\n",
    "from scipy.optimize import curve_fit\n",
    "from numpy.polynomial.polynomial import Polynomial\n",
    "# from sklearn.metrics import r2_score\n",
    "from tqdm import tqdm\n",
    "from scipy.ndimage.filters import gaussian_filter1d"
   ]
  },
  {
   "cell_type": "code",
   "execution_count": null,
   "id": "artistic-dressing",
   "metadata": {},
   "outputs": [],
   "source": [
    "def smooth(data, window_size):\n",
    "    \"\"\"Smooth the data using a window with requested size.\"\"\"\n",
    "    window = np.ones(window_size) / window_size\n",
    "    return np.convolve(data, window, 'same')\n",
    "\n",
    "def smooth_gaussian(data, sigma):\n",
    "    \"\"\"Smooth the data using a window with requested size.\"\"\"\n",
    "    return gaussian_filter1d(data, sigma=sigma)"
   ]
  },
  {
   "cell_type": "markdown",
   "id": "292c274f",
   "metadata": {},
   "source": [
    "# Balanced server"
   ]
  },
  {
   "cell_type": "code",
   "execution_count": null,
   "id": "908a9845",
   "metadata": {},
   "outputs": [],
   "source": [
    "fontsize = 28\n",
    "legend_fontsize = 22\n",
    "fontsize = 36\n",
    "legend_fontsize = 32\n",
    "plt.rcParams.update({'font.size': fontsize})\n",
    "rc('font', **{'family': 'serif', 'serif': ['Computer Modern']})\n",
    "rc('text', usetex=True)\n",
    "linewidth = 4\n",
    "#####\n",
    "algorithms = [\"optimal\", \"greedy\", \"balanced\"]\n",
    "colors = {\"optimal\": '#50C878', \"greedy\": '#CCAC00', \"balanced\" : '#c74c18'}\n",
    "algo_names = {\"optimal\": 'Synthesized', \"greedy\": 'Greedy', \"balanced\" : 'Balanced'}\n",
    "linestyles = {\"optimal\": 'solid', \"greedy\": 'dashed', \"balanced\" : 'dashdot'}\n",
    "#####"
   ]
  },
  {
   "cell_type": "code",
   "execution_count": null,
   "id": "784df731",
   "metadata": {},
   "outputs": [],
   "source": [
    "algorithms = ['greedy', 'balanced', 'optimal']"
   ]
  },
  {
   "cell_type": "code",
   "execution_count": null,
   "id": "76f3e34f",
   "metadata": {},
   "outputs": [],
   "source": [
    "df = pd.read_csv(f'collected_data/output_balanced_server_T1000_X20_pa03_pb075_B5.txt', skiprows = 4 )\n",
    "df = pd.read_csv(f'collected_data/output_balanced_server_T100_X20_pa03_pb075_B5.txt', skiprows = 4 )\n",
    "df = pd.read_csv(f'collected_data/output_balanced_server_T1000_X20_pa51_pb049_B5.txt', skiprows = 4 )"
   ]
  },
  {
   "cell_type": "code",
   "execution_count": null,
   "id": "c07e39d8",
   "metadata": {},
   "outputs": [],
   "source": [
    "for algo in algorithms:\n",
    "    df[f\"b_{algo}\"] = df.apply(lambda row: row[f\"b_{algo}\"] * -1 if row[f\"g_{algo}\"] < 0.5 else row[f\"b_{algo}\"], axis=1)"
   ]
  },
  {
   "cell_type": "code",
   "execution_count": null,
   "id": "740b74f7",
   "metadata": {},
   "outputs": [],
   "source": [
    "b_mean = {}\n",
    "b_std = {}\n",
    "b_min = {}\n",
    "b_max = {}\n",
    "\n",
    "rewards = {}\n",
    "\n",
    "for algo in algorithms:\n",
    "    b_mean[algo] = np.array(df[['t', f'b_{algo}']].groupby(\"t\").mean()[f'b_{algo}'])\n",
    "    b_std[algo] = np.array(df[['t', f'b_{algo}']].groupby(\"t\").std()[f'b_{algo}'])\n",
    "    b_min[algo] = np.array(df[['t', f'b_{algo}']].groupby(\"t\").min()[f'b_{algo}'])\n",
    "    b_max[algo] = np.array(df[['t', f'b_{algo}']].groupby(\"t\").max()[f'b_{algo}'])\n",
    "    rewards[algo] = df[df.t == df.t.max()][[f'reward_{algo}', 'sim_no']][f\"reward_{algo}\"].mean()\n"
   ]
  },
  {
   "cell_type": "code",
   "execution_count": null,
   "id": "054d8bb7",
   "metadata": {},
   "outputs": [],
   "source": [
    "# Create the plot\n",
    "fig, ax = plt.subplots(figsize=(9,5))\n",
    "\n",
    "# plt.figure(figsize=(10, 6))\n",
    "\n",
    "Times = df.t.unique()\n",
    "\n",
    "sigma = 10\n",
    "\n",
    "for agent in algorithms:\n",
    "    \n",
    "    \n",
    "    smoothed_min = smooth_gaussian(b_min[agent], sigma)\n",
    "    smoothed_max = smooth_gaussian(b_max[agent], sigma)\n",
    "    \n",
    "    \n",
    "    plt.plot(Times, smoothed_min,\n",
    "             label = algo_names[agent], color = colors[agent], \n",
    "             linewidth=linewidth, linestyle = linestyles[agent])\n",
    "    plt.plot(Times, smoothed_max,\n",
    "             label = None, color = colors[agent], \n",
    "             linewidth=linewidth, linestyle = linestyles[agent])\n",
    "\n",
    "\n",
    "\n",
    "\n",
    "for spine in ['right', 'top']:\n",
    "    ax.spines[spine].set_visible(False)\n",
    "\n",
    "\n",
    "eps = 8\n",
    "plt.axhline(eps, linestyle='dashed', label=None, xmin = 0.05, xmax = 0.96)\n",
    "plt.axhline(-eps, linestyle='dashed', label=None, xmin = 0.05, xmax = 0.96)\n",
    "plt.fill_between([Times[0], Times[-1]+10], [-eps, -eps], [eps, eps], color = 'blue', alpha = 0.05 )\n",
    "\n",
    "\n",
    "plt.text(75, -4.96, \"Target\", fontsize = legend_fontsize-6)\n",
    "\n",
    "# Add labels and title\n",
    "\n",
    "plt.xlabel('Time steps')\n",
    "plt.ylabel('Imbalance')\n",
    "\n",
    "# plt.legend()\n",
    "\n",
    "\n",
    "# Show the plot\n",
    "plt.savefig('results_images/balanced_server_simulation.pdf', bbox_inches='tight')\n",
    "plt.show()"
   ]
  },
  {
   "cell_type": "code",
   "execution_count": null,
   "id": "0c88e096",
   "metadata": {},
   "outputs": [],
   "source": []
  },
  {
   "cell_type": "markdown",
   "id": "907a0758",
   "metadata": {},
   "source": [
    "# Maximally responsive server"
   ]
  },
  {
   "cell_type": "code",
   "execution_count": null,
   "id": "1f4a1dfe",
   "metadata": {},
   "outputs": [],
   "source": [
    "fontsize = 36\n",
    "legend_fontsize = 34\n",
    "plt.rcParams.update({'font.size': fontsize})\n",
    "rc('font', **{'family': 'serif', 'serif': ['Computer Modern']})\n",
    "rc('text', usetex=True)\n",
    "linewidth = 4\n",
    "#####\n",
    "colors = {0: '#50C878', 5: '#CCAC00', 10 : '#c74c18', 15: 'blue', 20: 'green', 25: 'red'}\n",
    "colors = {0: '#3498DB', 5: '#E74C3C', 15 : '#F1C40F', 25: '#2ECC71'}\n",
    "linestyles = {0: 'solid', 5: 'dashed', 15: 'dotted', 25 : 'dashdot'}\n",
    "#####"
   ]
  },
  {
   "cell_type": "code",
   "execution_count": null,
   "id": "82cc9053",
   "metadata": {},
   "outputs": [],
   "source": [
    "budgets = [5, 10, 15, 20, 25]\n",
    "budgets = [5, 15, 25]\n",
    "all_df = {}\n",
    "for budget in budgets:\n",
    "    df = pd.read_csv(f'collected_data/output_max_response_T100_X6_pa03_pb075_B{budget}.txt', skiprows = 4 )\n",
    "    df[\"used_budget\"] = df[\"cost_greedy\"] - df[\"cost_optimal\"]\n",
    "    all_df[budget] = df"
   ]
  },
  {
   "cell_type": "code",
   "execution_count": null,
   "id": "70885f62",
   "metadata": {},
   "outputs": [],
   "source": [
    "time = np.sort(all_df[budgets[0]].t.unique())"
   ]
  },
  {
   "cell_type": "code",
   "execution_count": null,
   "id": "9b6e4099",
   "metadata": {},
   "outputs": [],
   "source": [
    "lost_revenue = {}\n",
    "lost_revenue[0] = 0\n",
    "\n",
    "for budget in budgets:\n",
    "\n",
    "    df = all_df[budget][[\"t\", \"cost_greedy\", \"cost_optimal\"]]\n",
    "    lost_revenue[budget] = 100*(df[df.t == 99].cost_greedy.mean() - df[df.t == 99].cost_optimal.mean())/(df[df.t == 99].cost_greedy.mean())"
   ]
  },
  {
   "cell_type": "code",
   "execution_count": null,
   "id": "6054007d",
   "metadata": {},
   "outputs": [],
   "source": []
  },
  {
   "cell_type": "code",
   "execution_count": null,
   "id": "38300622",
   "metadata": {},
   "outputs": [],
   "source": [
    "m_std = {}\n",
    "m_mean = {}\n",
    "\n",
    "\n",
    "\n",
    "mean_greedy = np.array(all_df[budgets[0]][[\"t\", \"m_greedy\"]].groupby(\"t\").mean().m_greedy)\n",
    "std_greedy = np.array(all_df[budgets[0]][[\"t\", \"m_greedy\"]].groupby(\"t\").std().m_greedy)\n",
    "\n",
    "for budget in budgets:\n",
    "    m_mean[budget] = np.array(all_df[budget][[\"t\", \"m_optimal\"]].groupby(\"t\").mean().m_optimal)\n",
    "    m_std[budget] = np.array(all_df[budget][[\"t\", \"m_optimal\"]].groupby(\"t\").std().m_optimal)\n",
    "m_mean[0] = mean_greedy\n",
    "m_std[0] = std_greedy\n",
    "budgets.append(0)"
   ]
  },
  {
   "cell_type": "code",
   "execution_count": null,
   "id": "ba6d059b",
   "metadata": {},
   "outputs": [],
   "source": [
    "# Create the plot\n",
    "fig, ax = plt.subplots(figsize=(8.5,5))\n",
    "\n",
    "# plt.figure(figsize=(10, 6))\n",
    "\n",
    "window_size = 10\n",
    "\n",
    "\n",
    "for budget in budgets:\n",
    "    plt.plot(time, m_mean[budget], label=f\"{budget} - {lost_revenue[budget]:.2f} \\% lost\", \n",
    "             color = colors[budget], linestyle = linestyles[budget], linewidth = linewidth)\n",
    "    plt.fill_between(time, m_mean[budget] - m_std[budget], m_mean[budget] + m_std[budget], \n",
    "                     color=colors[budget], alpha=0.15)\n",
    "\n",
    "\n",
    "\n",
    "for spine in ['right', 'top']:\n",
    "    ax.spines[spine].set_visible(False)\n",
    "\n",
    "# \n",
    "# plt.text(75, -0.06, \"Target\", fontsize = legend_fontsize-6)\n",
    "\n",
    "# Add labels and title\n",
    "\n",
    "plt.xlabel('Time steps')\n",
    "plt.ylabel('Max. wait time')\n",
    "\n",
    "# plt.legend(fontsize=legend_fontsize)\n",
    "\n",
    "\n",
    "\n",
    "\n",
    "# Show the plot\n",
    "plt.savefig('results_images/max_response_time.pdf', bbox_inches='tight')\n",
    "plt.show()"
   ]
  },
  {
   "cell_type": "markdown",
   "id": "preceding-college",
   "metadata": {},
   "source": [
    "# Established Clientele"
   ]
  },
  {
   "cell_type": "code",
   "execution_count": null,
   "id": "broken-russian",
   "metadata": {},
   "outputs": [],
   "source": [
    "fontsize = 28\n",
    "legend_fontsize = 22\n",
    "fontsize = 36\n",
    "legend_fontsize = 32\n",
    "plt.rcParams.update({'font.size': fontsize})\n",
    "rc('font', **{'family': 'serif', 'serif': ['Computer Modern']})\n",
    "rc('text', usetex=True)\n",
    "linewidth = 4\n",
    "\n",
    "#####\n",
    "agents = [\"optimal\", \"threshold\"]\n",
    "# budgetlist = [50, 100, 150, 200, 250, 300, 450]\n",
    "budgetlist = [50, 150, 250, 350]\n",
    "\n",
    "colors = {\n",
    "    50: '#dc3320',\n",
    "    150: '#0d7a1e',\n",
    "    250: '#3357FF',\n",
    "    350: '#c215be',\n",
    "    450: '#99872f'\n",
    "}\n",
    "\n",
    "linestyles = {\n",
    "    50: 'solid',\n",
    "    150: '--',\n",
    "    250: '-.',\n",
    "    350: ':',\n",
    "    450: 'solid'\n",
    "}\n",
    "\n",
    "# colors = {\"optimal\": '#50C878', \"threshold\": '#CCAC00'}\n",
    "algo_names = {\"optimal\": 'Optimal', \"threshold\": 'Threshold'}\n",
    "# linestyles = {\"optimal\": 'solid', \"threshold\": 'dashed'}\n",
    "#####"
   ]
  },
  {
   "cell_type": "code",
   "execution_count": null,
   "id": "sexual-logic",
   "metadata": {},
   "outputs": [],
   "source": []
  },
  {
   "cell_type": "code",
   "execution_count": null,
   "id": "thousand-material",
   "metadata": {},
   "outputs": [],
   "source": [
    "toplot = {}\n",
    "for budget in budgetlist:\n",
    "    all_data_df = pd.read_csv(f'collected_data/established_clientele_simulations/established_clientele_input_N100_Dcenteredbino_l-5_u4_n6_k1_T500_B{budget}_S10/data/all_data.csv')\n",
    "    # data_df = all_data_df[['simulation', 'time', 'variable', 'value', 'group', 'agent']]\n",
    "    data_df = all_data_df[(all_data_df.variable == \"threshold\") & (all_data_df.agent == \"optimal\")]\n",
    "    # Use groupby and pivot to reshape the data\n",
    "    data_df = data_df[['simulation', 'time', 'agent', 'variable', 'value']]\n",
    "    threshold_data = data_df.pivot_table(index=['simulation', 'time'], values='value').unstack()\n",
    "    threshold_data.columns = [col[1] for col in threshold_data.columns]\n",
    "    threshold_data.loc['mean', :] = threshold_data.mean(axis=0)\n",
    "    threshold_data.loc['std', :] = threshold_data.std(axis=0)\n",
    "    toplot[budget] = {}\n",
    "    toplot[budget]['mean'] = np.array(threshold_data.loc['mean', :])\n",
    "    toplot[budget]['std'] = np.array(threshold_data.loc['std', :])\n",
    "    "
   ]
  },
  {
   "cell_type": "code",
   "execution_count": null,
   "id": "confidential-rainbow",
   "metadata": {},
   "outputs": [],
   "source": []
  },
  {
   "cell_type": "code",
   "execution_count": null,
   "id": "younger-january",
   "metadata": {},
   "outputs": [],
   "source": [
    "# Create the plot\n",
    "fig, ax = plt.subplots(figsize=(8, 5))\n",
    "\n",
    "Times = data_df.time.unique()\n",
    "window_size = 15  # Adjust the window size as needed for smoothing\n",
    "\n",
    "for budget in budgetlist:\n",
    "    # Smooth the data\n",
    "    smoothed_mean = smooth(toplot[budget]['mean'], window_size)\n",
    "    smoothed_std = smooth(toplot[budget]['std'], window_size)\n",
    "\n",
    "    # Plot the smoothed data\n",
    "    plt.plot(Times, smoothed_mean,\n",
    "             label=f\"Budget = {budget}\", color=colors[budget], linestyle=linestyles[budget],\n",
    "             linewidth=linewidth, alpha=0.8)\n",
    "    plt.fill_between(Times, smoothed_mean - smoothed_std,\n",
    "                     smoothed_mean + smoothed_std, color=colors[budget], alpha=0.2)\n",
    "\n",
    "plt.axhline(0, linestyle='dashed', label=None, linewidth=0.5)\n",
    "\n",
    "for spine in ['right', 'top']:\n",
    "    ax.spines[spine].set_visible(False)\n",
    "\n",
    "# Add labels and title\n",
    "plt.xlabel('Time steps')\n",
    "# plt.ylabel('Credit score threshold')\n",
    "plt.ylabel('Price threshold')\n",
    "# plt.legend(fontsize=legend_fontsize, loc=[0.1, 0.08], ncol=2, columnspacing=0.4)\n",
    "\n",
    "# Show the plot\n",
    "plt.savefig('results_images/established_clientele_simulation_threshold.pdf', bbox_inches='tight')\n",
    "plt.show()"
   ]
  },
  {
   "cell_type": "code",
   "execution_count": null,
   "id": "continent-sunglasses",
   "metadata": {},
   "outputs": [],
   "source": [
    "# Create the plot\n",
    "fig, ax = plt.subplots(figsize=(8,5))\n",
    "\n",
    "# plt.figure(figsize=(10, 6))\n",
    "\n",
    "Times = data_df.time.unique()\n",
    "for budget in budgetlist:\n",
    "    plt.plot(Times, toplot[budget]['mean'],\n",
    "             label = f\"Budget = {budget}\", color = colors[budget], linestyle = linestyles[budget],\n",
    "             linewidth=linewidth,alpha=0.8)\n",
    "    plt.fill_between(Times, toplot[budget]['mean'] - toplot[budget]['std'],\n",
    "                    toplot[budget]['mean'] + toplot[budget]['std'], color = colors[budget], alpha = 0.2)\n",
    "\n",
    "plt.axhline(0, linestyle='dashed', label=None, linewidth = 0.5)\n",
    "    \n",
    "for spine in ['right', 'top']:\n",
    "    ax.spines[spine].set_visible(False)\n",
    "\n",
    "# Add labels and title\n",
    "\n",
    "plt.xlabel('Time steps')\n",
    "plt.ylabel('Threshold')\n",
    "\n",
    "plt.legend(fontsize=legend_fontsize, loc=[0.1, 0.08], ncol=2, columnspacing=0.4)\n",
    "\n",
    "# Show the plot\n",
    "plt.savefig('results_images/established_clientele_simulation_threshold.pdf', bbox_inches='tight')\n",
    "plt.show()\n",
    "\n",
    "    "
   ]
  }
 ],
 "metadata": {
  "kernelspec": {
   "display_name": "Python 3",
   "language": "python",
   "name": "python3"
  },
  "language_info": {
   "codemirror_mode": {
    "name": "ipython",
    "version": 3
   },
   "file_extension": ".py",
   "mimetype": "text/x-python",
   "name": "python",
   "nbconvert_exporter": "python",
   "pygments_lexer": "ipython3",
   "version": "3.10.12"
  }
 },
 "nbformat": 4,
 "nbformat_minor": 5
}
