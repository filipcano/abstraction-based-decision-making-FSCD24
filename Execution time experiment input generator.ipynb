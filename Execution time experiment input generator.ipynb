{
 "cells": [
  {
   "cell_type": "code",
   "execution_count": 3,
   "id": "adjacent-gibraltar",
   "metadata": {},
   "outputs": [],
   "source": [
    "import numpy as np\n",
    "import random\n",
    "from scipy.stats import binom"
   ]
  },
  {
   "cell_type": "code",
   "execution_count": 50,
   "id": "owned-smoke",
   "metadata": {},
   "outputs": [],
   "source": [
    "def generate_random_string(length, withsum):\n",
    "    aux = np.random.rand(length)\n",
    "    aux = aux/np.sum(aux)\n",
    "    aux = aux*withsum\n",
    "    for j in range(length-1):\n",
    "        aux[j] = float(\"{:.4f}\".format(aux[j]))\n",
    "    aux[length-1] = withsum-np.sum(aux[:-1])\n",
    "    return aux"
   ]
  },
  {
   "cell_type": "markdown",
   "id": "17629456",
   "metadata": {},
   "source": [
    "# Balanced server"
   ]
  },
  {
   "cell_type": "code",
   "execution_count": 51,
   "id": "15612cd4",
   "metadata": {},
   "outputs": [],
   "source": [
    "def generate_balanced_server_input(T, X, B, pa, pb):\n",
    "    instring = f\"{T} {X} {B}\\n\"\n",
    "    binomA = binom(X-1, pa)\n",
    "    binomB = binom(X-1, pb)\n",
    "    auxA = [binomA.pmf(i) for i in range(X)]\n",
    "    auxB = [binomB.pmf(i) for i in range(X)]\n",
    "    for i in range(X-1):\n",
    "        auxA[i] = float(\"{:.4f}\".format(auxA[i]))\n",
    "        auxB[i] = float(\"{:.4f}\".format(auxB[i]))\n",
    "    auxA[X-1] = 1 - np.sum(auxA[:-1])\n",
    "    auxB[X-1] = 1 - np.sum(auxB[:-1])\n",
    "    \n",
    "    for i in range(X):\n",
    "        instring += \"{:.4f}\".format(auxA[i]) + ' '\n",
    "    instring += \"\\n\"\n",
    "    for i in range(X):\n",
    "        instring += \"{:.4f}\".format(auxB[i]) + ' '\n",
    "    gamma = find_best_gamma(auxA, auxB)\n",
    "    instring += f\"\\n{gamma:.4f}\"\n",
    "    return instring\n",
    "        \n",
    "    \n",
    "def imbalance(probsA, probsB, gamma):\n",
    "    res = 0\n",
    "    for i in range(len(probsA)):\n",
    "        for j in range(len(probsB)):\n",
    "            rew = 0\n",
    "            if (j - i < gamma):\n",
    "                rew = +1\n",
    "            if (j - i > gamma):\n",
    "                rew = -1\n",
    "            res += rew*probsA[i]*probsB[j]\n",
    "    return res\n",
    "\n",
    "def find_best_gamma(probsA, probsB):\n",
    "    i = 0\n",
    "    gamma_u = +len(probsA)\n",
    "    gamma_l = -len(probsB)\n",
    "    values = {0:0}\n",
    "    while i < 100 and max(values.values()) < 10 :\n",
    "        imb = imbalance(probsA, probsB, (gamma_u + gamma_l)/2)\n",
    "        if imb not in values:\n",
    "            values[imb] = 1\n",
    "        else:\n",
    "            values[imb] += 1\n",
    "        max_vals = 0\n",
    "        if imb < 0:\n",
    "            gamma_l = (gamma_u + gamma_l)/2\n",
    "        else:\n",
    "            gamma_u = (gamma_u + gamma_l)/2\n",
    "    if np.abs(imbalance(probsA, probsB, gamma_l)) < np.abs(imbalance(probsA, probsB, gamma_u)):\n",
    "        print(f\"accepted imbalance: {imbalance(probsA, probsB, gamma_l)}\")\n",
    "        return gamma_l\n",
    "    print(f\"accepted imbalance: {imbalance(probsA, probsB, gamma_u)}\")\n",
    "    return gamma_u"
   ]
  },
  {
   "cell_type": "code",
   "execution_count": 47,
   "id": "ae168984",
   "metadata": {},
   "outputs": [],
   "source": [
    "pastring = f\"{pa}\".replace('.', '')\n",
    "pbstring = f\"{pb}\".replace('.', '')"
   ]
  },
  {
   "cell_type": "code",
   "execution_count": 53,
   "id": "212f199d",
   "metadata": {},
   "outputs": [
    {
     "name": "stdout",
     "output_type": "stream",
     "text": [
      "accepted imbalance: -0.02974238000000014\n"
     ]
    }
   ],
   "source": [
    "\n",
    "\n",
    "T = 1000\n",
    "X = 20\n",
    "B = 5\n",
    "pa = 0.51\n",
    "pb = 0.49\n",
    "\n",
    "setup = generate_balanced_server_input(T, X, B, pa, pb)\n",
    "\n",
    "pastring = f\"{pa}\".replace('.', '')\n",
    "pbstring = f\"{pb}\".replace('.', '')\n",
    "with open(f'inputs/balanced_server_input_T{T}_X{X}_pa{pastring}_pb{pbstring}_B{B}.txt', 'w') as fp:\n",
    "    fp.write(setup)"
   ]
  },
  {
   "cell_type": "code",
   "execution_count": null,
   "id": "ca2a9113",
   "metadata": {},
   "outputs": [],
   "source": []
  },
  {
   "cell_type": "markdown",
   "id": "40d1d14f",
   "metadata": {},
   "source": [
    "# Maximally responsive"
   ]
  },
  {
   "cell_type": "code",
   "execution_count": 4,
   "id": "d2f912c0",
   "metadata": {},
   "outputs": [],
   "source": [
    "n = 10\n",
    "p = 0.8\n",
    "rv = binom(n, p)"
   ]
  },
  {
   "cell_type": "code",
   "execution_count": 13,
   "id": "9982bda2",
   "metadata": {},
   "outputs": [],
   "source": [
    "res = 0\n",
    "for i in range(11):\n",
    "    res += rv.pmf(i)"
   ]
  },
  {
   "cell_type": "code",
   "execution_count": 23,
   "id": "dba1749d",
   "metadata": {},
   "outputs": [],
   "source": [
    "def generate_max_response_input(T, X, B, pa, pb):\n",
    "    instring = f\"{T} {X} {B}\\n\"\n",
    "    binomA = binom(X-1, pa)\n",
    "    binomB = binom(X-1, pb)\n",
    "    auxA = [binomA.pmf(i) for i in range(X)]\n",
    "    auxB = [binomB.pmf(i) for i in range(X)]\n",
    "    for i in range(X-1):\n",
    "        auxA[i] = float(\"{:.4f}\".format(auxA[i]))\n",
    "        auxB[i] = float(\"{:.4f}\".format(auxB[i]))\n",
    "    auxA[X-1] = 1 - np.sum(auxA[:-1])\n",
    "    auxB[X-1] = 1 - np.sum(auxB[:-1])\n",
    "    \n",
    "    for i in range(X):\n",
    "        instring += \"{:.4f}\".format(auxA[i]) + ' '\n",
    "    instring += \"\\n\"\n",
    "    for i in range(X):\n",
    "        instring += \"{:.4f}\".format(auxB[i]) + ' '\n",
    "    return instring\n",
    "        \n",
    "    "
   ]
  },
  {
   "cell_type": "code",
   "execution_count": 22,
   "id": "b21d9d85",
   "metadata": {},
   "outputs": [
    {
     "name": "stdout",
     "output_type": "stream",
     "text": [
      "10 4 4\n",
      "0.3430 0.4410 0.1890 0.0270 \n",
      "0.0156 0.1406 0.4219 0.4219 \n"
     ]
    }
   ],
   "source": [
    "T = 10\n",
    "X = 4\n",
    "B = 4\n",
    "pa = 0.3\n",
    "pb = 0.75\n",
    "\n",
    "print(generate_max_response_input(T, X, B, pa, pb))"
   ]
  },
  {
   "cell_type": "code",
   "execution_count": null,
   "id": "bdf2979f",
   "metadata": {},
   "outputs": [],
   "source": [
    "X = 2\n",
    "B = 4\n",
    "pa = 0.3\n",
    "pb = 0.75\n",
    "sizes = [1,2,3,4,5,6,7,8,9, 10, 11, 12, 13, 14, 15, 25, 50, 75, 100, 125, 150, 175, 200, 225, 250, 275, 300, 325, 350, 375, 400, 425, 450, 475, 500, 525, 550, 575, 600, 625]\n",
    "sizes = [1,2,3,4,5,6,7,8,9, 10, 100, 250, 500, 750, 1000, 1250, 1500, 1750, 2000, 2250, 2500, 2750, 3000, 3250, 3500, 3750, 4000, 4250, 4500, 4750, 5000, 5250, 5500, 5750, 6000]\n",
    "sizes = [5000, 10000, 15000, 20000, 25000, 30000, 35000, 40000, 45000, 50000, 55000, 60000]\n",
    "\n",
    "\n",
    "\n",
    "for T in sizes:\n",
    "    setup = generate_max_response_input(T, X, int(B + np.floor(T/10)), pa, pb)\n",
    "    with open(f'inputs/max_response_input_{T}.txt', 'w') as fp:\n",
    "        fp.write(setup)\n"
   ]
  },
  {
   "cell_type": "markdown",
   "id": "controlled-bandwidth",
   "metadata": {},
   "source": [
    "# Stable Clientele"
   ]
  },
  {
   "cell_type": "code",
   "execution_count": 6,
   "id": "minute-affairs",
   "metadata": {},
   "outputs": [],
   "source": [
    "X = 10\n",
    "B = 16\n",
    "N = random.sample(range(0, 100), 10)\n",
    "N = [0, 1, 2, 3, 4, 5, 6, 7, 8, 9]\n",
    "sizes = [i for i in range(1,11)] + [20*i for i in range(1,15)]\n",
    "# sizes = [1,2,3,4,5,6,7,8,9, 10, 20, 50, 100, 200, 500, 1000, 2000, 2500, 3000, 3500, 4000, 4500, 5000, 10000]\n",
    "sizes = [1,2,3,4,5,6,7,8,9, 10, 100, 250, 500, 750, 1000, 1250, 1500, 1750, 2000, 2250, 2500, 2750, 3000, 3250, 3500, 3750, 4000, 4250, 4500]\n",
    "for T in sizes:\n",
    "    setup = f\"{T} {X} {T//3}\\n\"\n",
    "#     N = random.sample(range(0, 100), 10)\n",
    "    aux = generate_random_string(X, 1.0)\n",
    "    for i in range(len(N)):\n",
    "        setup += f\"{N[i]} \"\n",
    "    setup += \"\\n\"\n",
    "    for i in range(len(N)):\n",
    "        setup += \"{:.4f}\".format(aux[i]) + ' '\n",
    "    with open(f'inputs/established_clientele_input_{T}.txt', 'w') as fp:\n",
    "        fp.write(setup)\n",
    "    \n",
    "    \n"
   ]
  },
  {
   "cell_type": "code",
   "execution_count": 6,
   "id": "human-retreat",
   "metadata": {},
   "outputs": [],
   "source": [
    "def print_list_for_bash(sizes):\n",
    "    outstr = \"\"\n",
    "    for i in range(len(sizes)):\n",
    "        outstr += f\"{sizes[i]} \"\n",
    "    return outstr"
   ]
  }
 ],
 "metadata": {
  "kernelspec": {
   "display_name": "Python 3",
   "language": "python",
   "name": "python3"
  },
  "language_info": {
   "codemirror_mode": {
    "name": "ipython",
    "version": 3
   },
   "file_extension": ".py",
   "mimetype": "text/x-python",
   "name": "python",
   "nbconvert_exporter": "python",
   "pygments_lexer": "ipython3",
   "version": "3.10.12"
  }
 },
 "nbformat": 4,
 "nbformat_minor": 5
}
